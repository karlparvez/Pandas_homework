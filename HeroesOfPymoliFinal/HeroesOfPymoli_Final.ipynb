{
 "cells": [
  {
   "cell_type": "markdown",
   "metadata": {},
   "source": [
    "### Note\n",
    "* Instructions have been included for each segment. You do not have to follow them exactly, but they are included to help you think through the steps."
   ]
  },
  {
   "cell_type": "code",
   "execution_count": 1,
   "metadata": {},
   "outputs": [
    {
     "data": {
      "text/html": [
       "<div>\n",
       "<style scoped>\n",
       "    .dataframe tbody tr th:only-of-type {\n",
       "        vertical-align: middle;\n",
       "    }\n",
       "\n",
       "    .dataframe tbody tr th {\n",
       "        vertical-align: top;\n",
       "    }\n",
       "\n",
       "    .dataframe thead th {\n",
       "        text-align: right;\n",
       "    }\n",
       "</style>\n",
       "<table border=\"1\" class=\"dataframe\">\n",
       "  <thead>\n",
       "    <tr style=\"text-align: right;\">\n",
       "      <th></th>\n",
       "      <th>Purchase ID</th>\n",
       "      <th>SN</th>\n",
       "      <th>Age</th>\n",
       "      <th>Gender</th>\n",
       "      <th>Item ID</th>\n",
       "      <th>Item Name</th>\n",
       "      <th>Price</th>\n",
       "    </tr>\n",
       "  </thead>\n",
       "  <tbody>\n",
       "    <tr>\n",
       "      <td>0</td>\n",
       "      <td>0</td>\n",
       "      <td>Lisim78</td>\n",
       "      <td>20</td>\n",
       "      <td>Male</td>\n",
       "      <td>108</td>\n",
       "      <td>Extraction, Quickblade Of Trembling Hands</td>\n",
       "      <td>3.53</td>\n",
       "    </tr>\n",
       "    <tr>\n",
       "      <td>1</td>\n",
       "      <td>1</td>\n",
       "      <td>Lisovynya38</td>\n",
       "      <td>40</td>\n",
       "      <td>Male</td>\n",
       "      <td>143</td>\n",
       "      <td>Frenzied Scimitar</td>\n",
       "      <td>1.56</td>\n",
       "    </tr>\n",
       "    <tr>\n",
       "      <td>2</td>\n",
       "      <td>2</td>\n",
       "      <td>Ithergue48</td>\n",
       "      <td>24</td>\n",
       "      <td>Male</td>\n",
       "      <td>92</td>\n",
       "      <td>Final Critic</td>\n",
       "      <td>4.88</td>\n",
       "    </tr>\n",
       "    <tr>\n",
       "      <td>3</td>\n",
       "      <td>3</td>\n",
       "      <td>Chamassasya86</td>\n",
       "      <td>24</td>\n",
       "      <td>Male</td>\n",
       "      <td>100</td>\n",
       "      <td>Blindscythe</td>\n",
       "      <td>3.27</td>\n",
       "    </tr>\n",
       "    <tr>\n",
       "      <td>4</td>\n",
       "      <td>4</td>\n",
       "      <td>Iskosia90</td>\n",
       "      <td>23</td>\n",
       "      <td>Male</td>\n",
       "      <td>131</td>\n",
       "      <td>Fury</td>\n",
       "      <td>1.44</td>\n",
       "    </tr>\n",
       "  </tbody>\n",
       "</table>\n",
       "</div>"
      ],
      "text/plain": [
       "   Purchase ID             SN  Age Gender  Item ID  \\\n",
       "0            0        Lisim78   20   Male      108   \n",
       "1            1    Lisovynya38   40   Male      143   \n",
       "2            2     Ithergue48   24   Male       92   \n",
       "3            3  Chamassasya86   24   Male      100   \n",
       "4            4      Iskosia90   23   Male      131   \n",
       "\n",
       "                                   Item Name  Price  \n",
       "0  Extraction, Quickblade Of Trembling Hands   3.53  \n",
       "1                          Frenzied Scimitar   1.56  \n",
       "2                               Final Critic   4.88  \n",
       "3                                Blindscythe   3.27  \n",
       "4                                       Fury   1.44  "
      ]
     },
     "execution_count": 1,
     "metadata": {},
     "output_type": "execute_result"
    }
   ],
   "source": [
    "# Dependencies and Setup\n",
    "import pandas as pd\n",
    "\n",
    "import numpy as np\n",
    "\n",
    "# File to Load (Remember to Change These)\n",
    "file_to_load = \"Resources/purchase_data.csv\"\n",
    "\n",
    "# Read Purchasing File and store into Pandas data frame\n",
    "purchase_data = pd.read_csv(file_to_load)\n",
    "purchase_data.head()"
   ]
  },
  {
   "cell_type": "markdown",
   "metadata": {},
   "source": [
    "## Player Count"
   ]
  },
  {
   "cell_type": "markdown",
   "metadata": {},
   "source": [
    "* Display the total number of players\n"
   ]
  },
  {
   "cell_type": "code",
   "execution_count": 15,
   "metadata": {},
   "outputs": [
    {
     "data": {
      "text/html": [
       "<div>\n",
       "<style scoped>\n",
       "    .dataframe tbody tr th:only-of-type {\n",
       "        vertical-align: middle;\n",
       "    }\n",
       "\n",
       "    .dataframe tbody tr th {\n",
       "        vertical-align: top;\n",
       "    }\n",
       "\n",
       "    .dataframe thead th {\n",
       "        text-align: right;\n",
       "    }\n",
       "</style>\n",
       "<table border=\"1\" class=\"dataframe\">\n",
       "  <thead>\n",
       "    <tr style=\"text-align: right;\">\n",
       "      <th></th>\n",
       "      <th>Total Players</th>\n",
       "    </tr>\n",
       "  </thead>\n",
       "  <tbody>\n",
       "    <tr>\n",
       "      <td>0</td>\n",
       "      <td>576</td>\n",
       "    </tr>\n",
       "  </tbody>\n",
       "</table>\n",
       "</div>"
      ],
      "text/plain": [
       "   Total Players\n",
       "0            576"
      ]
     },
     "execution_count": 15,
     "metadata": {},
     "output_type": "execute_result"
    }
   ],
   "source": [
    "total_players = len(purchase_data.SN.value_counts())\n",
    "\n",
    "players_df = pd.DataFrame({\"Total Players\":[total_players]})\n",
    "players_df"
   ]
  },
  {
   "cell_type": "markdown",
   "metadata": {},
   "source": [
    "## Purchasing Analysis (Total)"
   ]
  },
  {
   "cell_type": "markdown",
   "metadata": {},
   "source": [
    "* Run basic calculations to obtain number of unique items, average price, etc.\n",
    "\n",
    "\n",
    "* Create a summary data frame to hold the results\n",
    "\n",
    "\n",
    "* Optional: give the displayed data cleaner formatting\n",
    "\n",
    "\n",
    "* Display the summary data frame\n"
   ]
  },
  {
   "cell_type": "code",
   "execution_count": 13,
   "metadata": {
    "scrolled": true
   },
   "outputs": [
    {
     "data": {
      "text/html": [
       "<style  type=\"text/css\" >\n",
       "</style><table id=\"T_0e0fc21c_367e_11ea_831c_70bc1065bad5\" ><thead>    <tr>        <th class=\"blank level0\" ></th>        <th class=\"col_heading level0 col0\" >Total Unique Items</th>        <th class=\"col_heading level0 col1\" >Total Items Purchases</th>        <th class=\"col_heading level0 col2\" >Purchase Revenue</th>        <th class=\"col_heading level0 col3\" >Average Price</th>        <th class=\"col_heading level0 col4\" >Average Age</th>    </tr></thead><tbody>\n",
       "                <tr>\n",
       "                        <th id=\"T_0e0fc21c_367e_11ea_831c_70bc1065bad5level0_row0\" class=\"row_heading level0 row0\" >0</th>\n",
       "                        <td id=\"T_0e0fc21c_367e_11ea_831c_70bc1065bad5row0_col0\" class=\"data row0 col0\" >183</td>\n",
       "                        <td id=\"T_0e0fc21c_367e_11ea_831c_70bc1065bad5row0_col1\" class=\"data row0 col1\" >780</td>\n",
       "                        <td id=\"T_0e0fc21c_367e_11ea_831c_70bc1065bad5row0_col2\" class=\"data row0 col2\" >$2,379.77</td>\n",
       "                        <td id=\"T_0e0fc21c_367e_11ea_831c_70bc1065bad5row0_col3\" class=\"data row0 col3\" >$3.05</td>\n",
       "                        <td id=\"T_0e0fc21c_367e_11ea_831c_70bc1065bad5row0_col4\" class=\"data row0 col4\" >22.7</td>\n",
       "            </tr>\n",
       "    </tbody></table>"
      ],
      "text/plain": [
       "<pandas.io.formats.style.Styler at 0x20ee405ea88>"
      ]
     },
     "execution_count": 13,
     "metadata": {},
     "output_type": "execute_result"
    }
   ],
   "source": [
    "unique_items_count = purchase_data[\"Item ID\"].nunique()\n",
    "\n",
    "average_price = purchase_data[\"Price\"].mean()\n",
    "\n",
    "average_age = purchase_data[\"Age\"].mean()\n",
    "\n",
    "purchase_count = purchase_data[\"Purchase ID\"].count()\n",
    "\n",
    "total_purchase_revenue = purchase_data[\"Price\"].sum()\n",
    "\n",
    "purchasing_summary_df = pd.DataFrame({\"Total Unique Items\":[unique_items_count],\n",
    "                                      \"Total Items Purchases\":[purchase_count],\n",
    "                                      \"Purchase Revenue\": [total_purchase_revenue],\n",
    "                                       \"Average Price\":[average_price],\n",
    "                                      \"Average Age\":[average_age]})\n",
    "\n",
    "purchasing_summary_df.style.format({\"Average Price\":\"${:,.2f}\",\n",
    "                                    \"Purchase Revenue\":\"${:,.2f}\",\n",
    "                                    \"Average Age\":\"{:,.1f}\"})"
   ]
  },
  {
   "cell_type": "markdown",
   "metadata": {},
   "source": [
    "## Gender Demographics"
   ]
  },
  {
   "cell_type": "markdown",
   "metadata": {},
   "source": [
    "* Percentage and Count of Male Players\n",
    "\n",
    "\n",
    "* Percentage and Count of Female Players\n",
    "\n",
    "\n",
    "* Percentage and Count of Other / Non-Disclosed\n",
    "\n",
    "\n"
   ]
  },
  {
   "cell_type": "code",
   "execution_count": 22,
   "metadata": {},
   "outputs": [
    {
     "data": {
      "text/html": [
       "<style  type=\"text/css\" >\n",
       "</style><table id=\"T_b377fbe8_367e_11ea_9e1d_70bc1065bad5\" ><thead>    <tr>        <th class=\"blank level0\" ></th>        <th class=\"col_heading level0 col0\" >Percentage of Players</th>        <th class=\"col_heading level0 col1\" >Total Count</th>    </tr>    <tr>        <th class=\"index_name level0\" >Gender</th>        <th class=\"blank\" ></th>        <th class=\"blank\" ></th>    </tr></thead><tbody>\n",
       "                <tr>\n",
       "                        <th id=\"T_b377fbe8_367e_11ea_9e1d_70bc1065bad5level0_row0\" class=\"row_heading level0 row0\" >Male</th>\n",
       "                        <td id=\"T_b377fbe8_367e_11ea_9e1d_70bc1065bad5row0_col0\" class=\"data row0 col0\" >%84.028</td>\n",
       "                        <td id=\"T_b377fbe8_367e_11ea_9e1d_70bc1065bad5row0_col1\" class=\"data row0 col1\" >484</td>\n",
       "            </tr>\n",
       "            <tr>\n",
       "                        <th id=\"T_b377fbe8_367e_11ea_9e1d_70bc1065bad5level0_row1\" class=\"row_heading level0 row1\" >Female</th>\n",
       "                        <td id=\"T_b377fbe8_367e_11ea_9e1d_70bc1065bad5row1_col0\" class=\"data row1 col0\" >%14.062</td>\n",
       "                        <td id=\"T_b377fbe8_367e_11ea_9e1d_70bc1065bad5row1_col1\" class=\"data row1 col1\" >81</td>\n",
       "            </tr>\n",
       "            <tr>\n",
       "                        <th id=\"T_b377fbe8_367e_11ea_9e1d_70bc1065bad5level0_row2\" class=\"row_heading level0 row2\" >Other / Non-Disclosed</th>\n",
       "                        <td id=\"T_b377fbe8_367e_11ea_9e1d_70bc1065bad5row2_col0\" class=\"data row2 col0\" >%1.910</td>\n",
       "                        <td id=\"T_b377fbe8_367e_11ea_9e1d_70bc1065bad5row2_col1\" class=\"data row2 col1\" >11</td>\n",
       "            </tr>\n",
       "    </tbody></table>"
      ],
      "text/plain": [
       "<pandas.io.formats.style.Styler at 0x20ee4392548>"
      ]
     },
     "execution_count": 22,
     "metadata": {},
     "output_type": "execute_result"
    }
   ],
   "source": [
    "players_gender = purchase_data.groupby(\"Gender\")\n",
    "\n",
    "\n",
    "total_count_players_gender = players_gender.nunique()[\"SN\"]\n",
    "\n",
    "\n",
    "percentage_of_genders = total_count_players_gender / total_players * 100\n",
    "\n",
    "\n",
    "gender_summary = pd.DataFrame({\"Percentage of Players\": percentage_of_genders,\n",
    "                               \"Total Count\": total_count_players_gender})\n",
    "\n",
    "gender_summary.sort_values([\"Total Count\"], ascending = False).style.format({\"Percentage of Players\":\"%{:.3f}\"})\n"
   ]
  },
  {
   "cell_type": "markdown",
   "metadata": {},
   "source": [
    "\n",
    "## Purchasing Analysis (Gender)"
   ]
  },
  {
   "cell_type": "markdown",
   "metadata": {},
   "source": [
    "* Run basic calculations to obtain purchase count, avg. purchase price, avg. purchase total per person etc. by gender\n",
    "\n",
    "\n",
    "\n",
    "\n",
    "* Create a summary data frame to hold the results\n",
    "\n",
    "\n",
    "* Optional: give the displayed data cleaner formatting\n",
    "\n",
    "\n",
    "* Display the summary data frame"
   ]
  },
  {
   "cell_type": "code",
   "execution_count": 5,
   "metadata": {},
   "outputs": [
    {
     "data": {
      "text/html": [
       "<style  type=\"text/css\" >\n",
       "</style><table id=\"T_e094f390_367d_11ea_9d26_70bc1065bad5\" ><thead>    <tr>        <th class=\"blank level0\" ></th>        <th class=\"col_heading level0 col0\" >Purchase Count</th>        <th class=\"col_heading level0 col1\" >Average Purchase Price</th>        <th class=\"col_heading level0 col2\" >Average Purchase Value</th>        <th class=\"col_heading level0 col3\" >Number of Purchases per Person</th>    </tr>    <tr>        <th class=\"index_name level0\" >Gender</th>        <th class=\"blank\" ></th>        <th class=\"blank\" ></th>        <th class=\"blank\" ></th>        <th class=\"blank\" ></th>    </tr></thead><tbody>\n",
       "                <tr>\n",
       "                        <th id=\"T_e094f390_367d_11ea_9d26_70bc1065bad5level0_row0\" class=\"row_heading level0 row0\" >Female</th>\n",
       "                        <td id=\"T_e094f390_367d_11ea_9d26_70bc1065bad5row0_col0\" class=\"data row0 col0\" >113</td>\n",
       "                        <td id=\"T_e094f390_367d_11ea_9d26_70bc1065bad5row0_col1\" class=\"data row0 col1\" >$3</td>\n",
       "                        <td id=\"T_e094f390_367d_11ea_9d26_70bc1065bad5row0_col2\" class=\"data row0 col2\" >361.94</td>\n",
       "                        <td id=\"T_e094f390_367d_11ea_9d26_70bc1065bad5row0_col3\" class=\"data row0 col3\" >4</td>\n",
       "            </tr>\n",
       "            <tr>\n",
       "                        <th id=\"T_e094f390_367d_11ea_9d26_70bc1065bad5level0_row1\" class=\"row_heading level0 row1\" >Male</th>\n",
       "                        <td id=\"T_e094f390_367d_11ea_9d26_70bc1065bad5row1_col0\" class=\"data row1 col0\" >652</td>\n",
       "                        <td id=\"T_e094f390_367d_11ea_9d26_70bc1065bad5row1_col1\" class=\"data row1 col1\" >$3</td>\n",
       "                        <td id=\"T_e094f390_367d_11ea_9d26_70bc1065bad5row1_col2\" class=\"data row1 col2\" >1967.64</td>\n",
       "                        <td id=\"T_e094f390_367d_11ea_9d26_70bc1065bad5row1_col3\" class=\"data row1 col3\" >4</td>\n",
       "            </tr>\n",
       "            <tr>\n",
       "                        <th id=\"T_e094f390_367d_11ea_9d26_70bc1065bad5level0_row2\" class=\"row_heading level0 row2\" >Other / Non-Disclosed</th>\n",
       "                        <td id=\"T_e094f390_367d_11ea_9d26_70bc1065bad5row2_col0\" class=\"data row2 col0\" >15</td>\n",
       "                        <td id=\"T_e094f390_367d_11ea_9d26_70bc1065bad5row2_col1\" class=\"data row2 col1\" >$3</td>\n",
       "                        <td id=\"T_e094f390_367d_11ea_9d26_70bc1065bad5row2_col2\" class=\"data row2 col2\" >50.19</td>\n",
       "                        <td id=\"T_e094f390_367d_11ea_9d26_70bc1065bad5row2_col3\" class=\"data row2 col3\" >5</td>\n",
       "            </tr>\n",
       "    </tbody></table>"
      ],
      "text/plain": [
       "<pandas.io.formats.style.Styler at 0x20ee421cd48>"
      ]
     },
     "execution_count": 5,
     "metadata": {},
     "output_type": "execute_result"
    }
   ],
   "source": [
    "purchases_count = players_gender[\"Purchase ID\"].count()\n",
    "\n",
    "avg_purchase_price = players_gender[\"Price\"].mean()\n",
    "\n",
    "avg_purchase = players_gender[\"Price\"].sum()\n",
    "\n",
    "number_purchases_per_person = avg_purchase/total_count_players_gender\n",
    "\n",
    "gender_purchases = pd.DataFrame({\"Purchase Count\": purchases_count,\n",
    "                                 \"Average Purchase Price\": avg_purchase_price,\n",
    "                                 \"Average Purchase Value\":avg_purchase, \n",
    "                                \"Number of Purchases per Person\": number_purchases_per_person})\n",
    "\n",
    "gender_purchases.index.name = \"Gender\"\n",
    "\n",
    "gender_purchases.style.format({\"Average Purchase Price\":\"${:,.0f}\",\n",
    "                              \"Number of Purchases per Person\":\"{:,.0f}\"})"
   ]
  },
  {
   "cell_type": "markdown",
   "metadata": {},
   "source": [
    "## Age Demographics"
   ]
  },
  {
   "cell_type": "markdown",
   "metadata": {},
   "source": [
    "* Establish bins for ages\n",
    "\n",
    "\n",
    "* Categorize the existing players using the age bins. Hint: use pd.cut()\n",
    "\n",
    "\n",
    "* Calculate the numbers and percentages by age group\n",
    "\n",
    "\n",
    "* Create a summary data frame to hold the results\n",
    "\n",
    "\n",
    "* Optional: round the percentage column to two decimal points\n",
    "\n",
    "\n",
    "* Display Age Demographics Table\n"
   ]
  },
  {
   "cell_type": "code",
   "execution_count": 21,
   "metadata": {},
   "outputs": [
    {
     "data": {
      "text/html": [
       "<style  type=\"text/css\" >\n",
       "</style><table id=\"T_98765e68_367e_11ea_8ff5_70bc1065bad5\" ><thead>    <tr>        <th class=\"blank level0\" ></th>        <th class=\"col_heading level0 col0\" >Percent of Players</th>        <th class=\"col_heading level0 col1\" >Total Count</th>    </tr>    <tr>        <th class=\"index_name level0\" >Age Group</th>        <th class=\"blank\" ></th>        <th class=\"blank\" ></th>    </tr></thead><tbody>\n",
       "                <tr>\n",
       "                        <th id=\"T_98765e68_367e_11ea_8ff5_70bc1065bad5level0_row0\" class=\"row_heading level0 row0\" >Under 10</th>\n",
       "                        <td id=\"T_98765e68_367e_11ea_8ff5_70bc1065bad5row0_col0\" class=\"data row0 col0\" >4.17</td>\n",
       "                        <td id=\"T_98765e68_367e_11ea_8ff5_70bc1065bad5row0_col1\" class=\"data row0 col1\" >24</td>\n",
       "            </tr>\n",
       "            <tr>\n",
       "                        <th id=\"T_98765e68_367e_11ea_8ff5_70bc1065bad5level0_row1\" class=\"row_heading level0 row1\" >10-14</th>\n",
       "                        <td id=\"T_98765e68_367e_11ea_8ff5_70bc1065bad5row1_col0\" class=\"data row1 col0\" >7.12</td>\n",
       "                        <td id=\"T_98765e68_367e_11ea_8ff5_70bc1065bad5row1_col1\" class=\"data row1 col1\" >41</td>\n",
       "            </tr>\n",
       "            <tr>\n",
       "                        <th id=\"T_98765e68_367e_11ea_8ff5_70bc1065bad5level0_row2\" class=\"row_heading level0 row2\" >15-19</th>\n",
       "                        <td id=\"T_98765e68_367e_11ea_8ff5_70bc1065bad5row2_col0\" class=\"data row2 col0\" >26.04</td>\n",
       "                        <td id=\"T_98765e68_367e_11ea_8ff5_70bc1065bad5row2_col1\" class=\"data row2 col1\" >150</td>\n",
       "            </tr>\n",
       "            <tr>\n",
       "                        <th id=\"T_98765e68_367e_11ea_8ff5_70bc1065bad5level0_row3\" class=\"row_heading level0 row3\" >20-24</th>\n",
       "                        <td id=\"T_98765e68_367e_11ea_8ff5_70bc1065bad5row3_col0\" class=\"data row3 col0\" >40.28</td>\n",
       "                        <td id=\"T_98765e68_367e_11ea_8ff5_70bc1065bad5row3_col1\" class=\"data row3 col1\" >232</td>\n",
       "            </tr>\n",
       "            <tr>\n",
       "                        <th id=\"T_98765e68_367e_11ea_8ff5_70bc1065bad5level0_row4\" class=\"row_heading level0 row4\" >25-29</th>\n",
       "                        <td id=\"T_98765e68_367e_11ea_8ff5_70bc1065bad5row4_col0\" class=\"data row4 col0\" >10.24</td>\n",
       "                        <td id=\"T_98765e68_367e_11ea_8ff5_70bc1065bad5row4_col1\" class=\"data row4 col1\" >59</td>\n",
       "            </tr>\n",
       "            <tr>\n",
       "                        <th id=\"T_98765e68_367e_11ea_8ff5_70bc1065bad5level0_row5\" class=\"row_heading level0 row5\" >30-34</th>\n",
       "                        <td id=\"T_98765e68_367e_11ea_8ff5_70bc1065bad5row5_col0\" class=\"data row5 col0\" >6.42</td>\n",
       "                        <td id=\"T_98765e68_367e_11ea_8ff5_70bc1065bad5row5_col1\" class=\"data row5 col1\" >37</td>\n",
       "            </tr>\n",
       "            <tr>\n",
       "                        <th id=\"T_98765e68_367e_11ea_8ff5_70bc1065bad5level0_row6\" class=\"row_heading level0 row6\" >35-39</th>\n",
       "                        <td id=\"T_98765e68_367e_11ea_8ff5_70bc1065bad5row6_col0\" class=\"data row6 col0\" >4.51</td>\n",
       "                        <td id=\"T_98765e68_367e_11ea_8ff5_70bc1065bad5row6_col1\" class=\"data row6 col1\" >26</td>\n",
       "            </tr>\n",
       "            <tr>\n",
       "                        <th id=\"T_98765e68_367e_11ea_8ff5_70bc1065bad5level0_row7\" class=\"row_heading level0 row7\" >40+</th>\n",
       "                        <td id=\"T_98765e68_367e_11ea_8ff5_70bc1065bad5row7_col0\" class=\"data row7 col0\" >1.22</td>\n",
       "                        <td id=\"T_98765e68_367e_11ea_8ff5_70bc1065bad5row7_col1\" class=\"data row7 col1\" >7</td>\n",
       "            </tr>\n",
       "    </tbody></table>"
      ],
      "text/plain": [
       "<pandas.io.formats.style.Styler at 0x20ee4374dc8>"
      ]
     },
     "execution_count": 21,
     "metadata": {},
     "output_type": "execute_result"
    }
   ],
   "source": [
    "age_bins = [0, 10, 15, 20, 25, 30, 35, 40, 100]\n",
    "group_names = [\"Under 10\", \"10-14\", \"15-19\", \"20-24\", \"25-29\", \"30-34\", \"35-39\", \"40+\"]\n",
    "\n",
    "purchase_data[\"Age Group\"] = pd.cut(purchase_data[\"Age\"],age_bins, labels=group_names)\n",
    "purchase_data\n",
    "\n",
    "age_grouped = purchase_data.groupby(\"Age Group\")\n",
    "\n",
    "total_count_age = age_grouped[\"SN\"].nunique()\n",
    " \n",
    "percentage_by_age = (total_count_age/total_players) * 100\n",
    "\n",
    "age_demographics = pd.DataFrame({\"Percent of Players\": percentage_by_age, \"Total Count\": total_count_age})\n",
    "\n",
    "age_demographics.style.format({\"Percent of Players\":\"{:,.2f}\"})"
   ]
  },
  {
   "cell_type": "markdown",
   "metadata": {},
   "source": [
    "## Purchasing Analysis (Age)"
   ]
  },
  {
   "cell_type": "markdown",
   "metadata": {},
   "source": [
    "* Bin the purchase_data data frame by age\n",
    "\n",
    "\n",
    "* Run basic calculations to obtain purchase count, avg. purchase price, avg. purchase total per person etc. in the table below\n",
    "\n",
    "\n",
    "* Create a summary data frame to hold the results\n",
    "\n",
    "\n",
    "* Optional: give the displayed data cleaner formatting\n",
    "\n",
    "\n",
    "* Display the summary data frame"
   ]
  },
  {
   "cell_type": "code",
   "execution_count": 7,
   "metadata": {},
   "outputs": [
    {
     "data": {
      "text/html": [
       "<style  type=\"text/css\" >\n",
       "</style><table id=\"T_e09c4748_367d_11ea_9325_70bc1065bad5\" ><thead>    <tr>        <th class=\"blank level0\" ></th>        <th class=\"col_heading level0 col0\" >Purchase Count</th>        <th class=\"col_heading level0 col1\" >Average Purchase Price</th>        <th class=\"col_heading level0 col2\" >Total Purchase Value</th>        <th class=\"col_heading level0 col3\" >Average Purchase Total per Person</th>    </tr></thead><tbody>\n",
       "                <tr>\n",
       "                        <th id=\"T_e09c4748_367d_11ea_9325_70bc1065bad5level0_row0\" class=\"row_heading level0 row0\" ><10</th>\n",
       "                        <td id=\"T_e09c4748_367d_11ea_9325_70bc1065bad5row0_col0\" class=\"data row0 col0\" >23</td>\n",
       "                        <td id=\"T_e09c4748_367d_11ea_9325_70bc1065bad5row0_col1\" class=\"data row0 col1\" >$3.35</td>\n",
       "                        <td id=\"T_e09c4748_367d_11ea_9325_70bc1065bad5row0_col2\" class=\"data row0 col2\" >$77.13</td>\n",
       "                        <td id=\"T_e09c4748_367d_11ea_9325_70bc1065bad5row0_col3\" class=\"data row0 col3\" >$4.54</td>\n",
       "            </tr>\n",
       "            <tr>\n",
       "                        <th id=\"T_e09c4748_367d_11ea_9325_70bc1065bad5level0_row1\" class=\"row_heading level0 row1\" >10-14</th>\n",
       "                        <td id=\"T_e09c4748_367d_11ea_9325_70bc1065bad5row1_col0\" class=\"data row1 col0\" >28</td>\n",
       "                        <td id=\"T_e09c4748_367d_11ea_9325_70bc1065bad5row1_col1\" class=\"data row1 col1\" >$2.96</td>\n",
       "                        <td id=\"T_e09c4748_367d_11ea_9325_70bc1065bad5row1_col2\" class=\"data row1 col2\" >$82.78</td>\n",
       "                        <td id=\"T_e09c4748_367d_11ea_9325_70bc1065bad5row1_col3\" class=\"data row1 col3\" >$3.76</td>\n",
       "            </tr>\n",
       "            <tr>\n",
       "                        <th id=\"T_e09c4748_367d_11ea_9325_70bc1065bad5level0_row2\" class=\"row_heading level0 row2\" >15-19</th>\n",
       "                        <td id=\"T_e09c4748_367d_11ea_9325_70bc1065bad5row2_col0\" class=\"data row2 col0\" >136</td>\n",
       "                        <td id=\"T_e09c4748_367d_11ea_9325_70bc1065bad5row2_col1\" class=\"data row2 col1\" >$3.04</td>\n",
       "                        <td id=\"T_e09c4748_367d_11ea_9325_70bc1065bad5row2_col2\" class=\"data row2 col2\" >$412.89</td>\n",
       "                        <td id=\"T_e09c4748_367d_11ea_9325_70bc1065bad5row2_col3\" class=\"data row2 col3\" >$3.86</td>\n",
       "            </tr>\n",
       "            <tr>\n",
       "                        <th id=\"T_e09c4748_367d_11ea_9325_70bc1065bad5level0_row3\" class=\"row_heading level0 row3\" >20-24</th>\n",
       "                        <td id=\"T_e09c4748_367d_11ea_9325_70bc1065bad5row3_col0\" class=\"data row3 col0\" >365</td>\n",
       "                        <td id=\"T_e09c4748_367d_11ea_9325_70bc1065bad5row3_col1\" class=\"data row3 col1\" >$3.05</td>\n",
       "                        <td id=\"T_e09c4748_367d_11ea_9325_70bc1065bad5row3_col2\" class=\"data row3 col2\" >$1,114.06</td>\n",
       "                        <td id=\"T_e09c4748_367d_11ea_9325_70bc1065bad5row3_col3\" class=\"data row3 col3\" >$4.32</td>\n",
       "            </tr>\n",
       "            <tr>\n",
       "                        <th id=\"T_e09c4748_367d_11ea_9325_70bc1065bad5level0_row4\" class=\"row_heading level0 row4\" >25-29</th>\n",
       "                        <td id=\"T_e09c4748_367d_11ea_9325_70bc1065bad5row4_col0\" class=\"data row4 col0\" >101</td>\n",
       "                        <td id=\"T_e09c4748_367d_11ea_9325_70bc1065bad5row4_col1\" class=\"data row4 col1\" >$2.90</td>\n",
       "                        <td id=\"T_e09c4748_367d_11ea_9325_70bc1065bad5row4_col2\" class=\"data row4 col2\" >$293.00</td>\n",
       "                        <td id=\"T_e09c4748_367d_11ea_9325_70bc1065bad5row4_col3\" class=\"data row4 col3\" >$3.81</td>\n",
       "            </tr>\n",
       "            <tr>\n",
       "                        <th id=\"T_e09c4748_367d_11ea_9325_70bc1065bad5level0_row5\" class=\"row_heading level0 row5\" >30-34</th>\n",
       "                        <td id=\"T_e09c4748_367d_11ea_9325_70bc1065bad5row5_col0\" class=\"data row5 col0\" >73</td>\n",
       "                        <td id=\"T_e09c4748_367d_11ea_9325_70bc1065bad5row5_col1\" class=\"data row5 col1\" >$2.93</td>\n",
       "                        <td id=\"T_e09c4748_367d_11ea_9325_70bc1065bad5row5_col2\" class=\"data row5 col2\" >$214.00</td>\n",
       "                        <td id=\"T_e09c4748_367d_11ea_9325_70bc1065bad5row5_col3\" class=\"data row5 col3\" >$4.12</td>\n",
       "            </tr>\n",
       "            <tr>\n",
       "                        <th id=\"T_e09c4748_367d_11ea_9325_70bc1065bad5level0_row6\" class=\"row_heading level0 row6\" >35-39</th>\n",
       "                        <td id=\"T_e09c4748_367d_11ea_9325_70bc1065bad5row6_col0\" class=\"data row6 col0\" >41</td>\n",
       "                        <td id=\"T_e09c4748_367d_11ea_9325_70bc1065bad5row6_col1\" class=\"data row6 col1\" >$3.60</td>\n",
       "                        <td id=\"T_e09c4748_367d_11ea_9325_70bc1065bad5row6_col2\" class=\"data row6 col2\" >$147.67</td>\n",
       "                        <td id=\"T_e09c4748_367d_11ea_9325_70bc1065bad5row6_col3\" class=\"data row6 col3\" >$4.76</td>\n",
       "            </tr>\n",
       "            <tr>\n",
       "                        <th id=\"T_e09c4748_367d_11ea_9325_70bc1065bad5level0_row7\" class=\"row_heading level0 row7\" >40+</th>\n",
       "                        <td id=\"T_e09c4748_367d_11ea_9325_70bc1065bad5row7_col0\" class=\"data row7 col0\" >13</td>\n",
       "                        <td id=\"T_e09c4748_367d_11ea_9325_70bc1065bad5row7_col1\" class=\"data row7 col1\" >$2.94</td>\n",
       "                        <td id=\"T_e09c4748_367d_11ea_9325_70bc1065bad5row7_col2\" class=\"data row7 col2\" >$38.24</td>\n",
       "                        <td id=\"T_e09c4748_367d_11ea_9325_70bc1065bad5row7_col3\" class=\"data row7 col3\" >$3.19</td>\n",
       "            </tr>\n",
       "    </tbody></table>"
      ],
      "text/plain": [
       "<pandas.io.formats.style.Styler at 0x20ee4213788>"
      ]
     },
     "execution_count": 7,
     "metadata": {},
     "output_type": "execute_result"
    }
   ],
   "source": [
    "purchase_count_age = age_grouped[\"Purchase ID\"].count()\n",
    "\n",
    "avg_purchase_price_age = age_grouped[\"Price\"].mean()\n",
    "\n",
    "total_purchase_value = age_grouped[\"Price\"].sum()\n",
    "\n",
    "avg_purchase_per_person_age = total_purchase_value/total_count_age\n",
    "\n",
    "age_demographics = pd.DataFrame({\"Purchase Count\": purchase_count_age,\n",
    "                                 \"Average Purchase Price\": avg_purchase_price_age,\n",
    "                                 \"Total Purchase Value\":total_purchase_value,\n",
    "                                 \"Average Purchase Total per Person\": avg_purchase_per_person_age})\n",
    "\n",
    "\n",
    "age_demographics.style.format({\"Average Purchase Price\":\"${:,.2f}\",\n",
    "                               \"Total Purchase Value\":\"${:,.2f}\",\n",
    "                               \"Average Purchase Total per Person\":\"${:,.2f}\"})"
   ]
  },
  {
   "cell_type": "markdown",
   "metadata": {},
   "source": [
    "## Top Spenders"
   ]
  },
  {
   "cell_type": "markdown",
   "metadata": {},
   "source": [
    "* Run basic calculations to obtain the results in the table below\n",
    "\n",
    "\n",
    "* Create a summary data frame to hold the results\n",
    "\n",
    "\n",
    "* Sort the total purchase value column in descending order\n",
    "\n",
    "\n",
    "* Optional: give the displayed data cleaner formatting\n",
    "\n",
    "\n",
    "* Display a preview of the summary data frame\n",
    "\n"
   ]
  },
  {
   "cell_type": "code",
   "execution_count": 8,
   "metadata": {},
   "outputs": [
    {
     "data": {
      "text/html": [
       "<div>\n",
       "<style scoped>\n",
       "    .dataframe tbody tr th:only-of-type {\n",
       "        vertical-align: middle;\n",
       "    }\n",
       "\n",
       "    .dataframe tbody tr th {\n",
       "        vertical-align: top;\n",
       "    }\n",
       "\n",
       "    .dataframe thead th {\n",
       "        text-align: right;\n",
       "    }\n",
       "</style>\n",
       "<table border=\"1\" class=\"dataframe\">\n",
       "  <thead>\n",
       "    <tr style=\"text-align: right;\">\n",
       "      <th></th>\n",
       "      <th>Purchase Count</th>\n",
       "      <th>Average Purchase Price</th>\n",
       "      <th>Total Purchase Value</th>\n",
       "    </tr>\n",
       "    <tr>\n",
       "      <th>SN</th>\n",
       "      <th></th>\n",
       "      <th></th>\n",
       "      <th></th>\n",
       "    </tr>\n",
       "  </thead>\n",
       "  <tbody>\n",
       "    <tr>\n",
       "      <td>Lisosia93</td>\n",
       "      <td>5</td>\n",
       "      <td>3.792000</td>\n",
       "      <td>18.96</td>\n",
       "    </tr>\n",
       "    <tr>\n",
       "      <td>Idastidru52</td>\n",
       "      <td>4</td>\n",
       "      <td>3.862500</td>\n",
       "      <td>15.45</td>\n",
       "    </tr>\n",
       "    <tr>\n",
       "      <td>Chamjask73</td>\n",
       "      <td>3</td>\n",
       "      <td>4.610000</td>\n",
       "      <td>13.83</td>\n",
       "    </tr>\n",
       "    <tr>\n",
       "      <td>Iral74</td>\n",
       "      <td>4</td>\n",
       "      <td>3.405000</td>\n",
       "      <td>13.62</td>\n",
       "    </tr>\n",
       "    <tr>\n",
       "      <td>Iskadarya95</td>\n",
       "      <td>3</td>\n",
       "      <td>4.366667</td>\n",
       "      <td>13.10</td>\n",
       "    </tr>\n",
       "  </tbody>\n",
       "</table>\n",
       "</div>"
      ],
      "text/plain": [
       "             Purchase Count  Average Purchase Price  Total Purchase Value\n",
       "SN                                                                       \n",
       "Lisosia93                 5                3.792000                 18.96\n",
       "Idastidru52               4                3.862500                 15.45\n",
       "Chamjask73                3                4.610000                 13.83\n",
       "Iral74                    4                3.405000                 13.62\n",
       "Iskadarya95               3                4.366667                 13.10"
      ]
     },
     "execution_count": 8,
     "metadata": {},
     "output_type": "execute_result"
    }
   ],
   "source": [
    "spender_stats = purchase_data.groupby(\"SN\")\n",
    "\n",
    "purchase_count_spender = spender_stats[\"Purchase ID\"].count()\n",
    "\n",
    "avg_purchase_price_spender = spender_stats[\"Price\"].mean()\n",
    "\n",
    "purchase_total_spender = spender_stats[\"Price\"].sum()\n",
    "\n",
    "top_spenders = pd.DataFrame({\"Purchase Count\": purchase_count_spender,\n",
    "                             \"Average Purchase Price\": avg_purchase_price_spender,\n",
    "                             \"Total Purchase Value\":purchase_total_spender})\n",
    "\n",
    "\n",
    "spenders_new_format = top_spenders.sort_values([\"Total Purchase Value\"], ascending=False)\n",
    "\n",
    "spenders_new_format.style.format({\"Average Purchase Price\":\"${:,.2f}\", \n",
    "                                 \"Total Purchase Value\":\"${:,.2f}\"})\n",
    "spenders_new_format.head()\n"
   ]
  },
  {
   "cell_type": "markdown",
   "metadata": {},
   "source": [
    "## Most Popular Items"
   ]
  },
  {
   "cell_type": "markdown",
   "metadata": {},
   "source": [
    "* Retrieve the Item ID, Item Name, and Item Price columns\n",
    "\n",
    "\n",
    "* Group by Item ID and Item Name. Perform calculations to obtain purchase count, item price, and total purchase value\n",
    "\n",
    "\n",
    "* Create a summary data frame to hold the results\n",
    "\n",
    "\n",
    "* Sort the purchase count column in descending order\n",
    "\n",
    "\n",
    "* Optional: give the displayed data cleaner formatting\n",
    "\n",
    "\n",
    "* Display a preview of the summary data frame\n",
    "\n"
   ]
  },
  {
   "cell_type": "code",
   "execution_count": 24,
   "metadata": {},
   "outputs": [
    {
     "data": {
      "text/html": [
       "<div>\n",
       "<style scoped>\n",
       "    .dataframe tbody tr th:only-of-type {\n",
       "        vertical-align: middle;\n",
       "    }\n",
       "\n",
       "    .dataframe tbody tr th {\n",
       "        vertical-align: top;\n",
       "    }\n",
       "\n",
       "    .dataframe thead th {\n",
       "        text-align: right;\n",
       "    }\n",
       "</style>\n",
       "<table border=\"1\" class=\"dataframe\">\n",
       "  <thead>\n",
       "    <tr style=\"text-align: right;\">\n",
       "      <th></th>\n",
       "      <th></th>\n",
       "      <th>Purchase Count</th>\n",
       "      <th>Item Price</th>\n",
       "      <th>Total Purchase Value</th>\n",
       "    </tr>\n",
       "    <tr>\n",
       "      <th>Item ID</th>\n",
       "      <th>Item Name</th>\n",
       "      <th></th>\n",
       "      <th></th>\n",
       "      <th></th>\n",
       "    </tr>\n",
       "  </thead>\n",
       "  <tbody>\n",
       "    <tr>\n",
       "      <td>178</td>\n",
       "      <td>Oathbreaker, Last Hope of the Breaking Storm</td>\n",
       "      <td>12</td>\n",
       "      <td>4.23</td>\n",
       "      <td>50.76</td>\n",
       "    </tr>\n",
       "    <tr>\n",
       "      <td>145</td>\n",
       "      <td>Fiery Glass Crusader</td>\n",
       "      <td>9</td>\n",
       "      <td>4.58</td>\n",
       "      <td>41.22</td>\n",
       "    </tr>\n",
       "    <tr>\n",
       "      <td>108</td>\n",
       "      <td>Extraction, Quickblade Of Trembling Hands</td>\n",
       "      <td>9</td>\n",
       "      <td>3.53</td>\n",
       "      <td>31.77</td>\n",
       "    </tr>\n",
       "    <tr>\n",
       "      <td>82</td>\n",
       "      <td>Nirvana</td>\n",
       "      <td>9</td>\n",
       "      <td>4.90</td>\n",
       "      <td>44.10</td>\n",
       "    </tr>\n",
       "    <tr>\n",
       "      <td>19</td>\n",
       "      <td>Pursuit, Cudgel of Necromancy</td>\n",
       "      <td>8</td>\n",
       "      <td>1.02</td>\n",
       "      <td>8.16</td>\n",
       "    </tr>\n",
       "  </tbody>\n",
       "</table>\n",
       "</div>"
      ],
      "text/plain": [
       "                                                      Purchase Count  \\\n",
       "Item ID Item Name                                                      \n",
       "178     Oathbreaker, Last Hope of the Breaking Storm              12   \n",
       "145     Fiery Glass Crusader                                       9   \n",
       "108     Extraction, Quickblade Of Trembling Hands                  9   \n",
       "82      Nirvana                                                    9   \n",
       "19      Pursuit, Cudgel of Necromancy                              8   \n",
       "\n",
       "                                                      Item Price  \\\n",
       "Item ID Item Name                                                  \n",
       "178     Oathbreaker, Last Hope of the Breaking Storm        4.23   \n",
       "145     Fiery Glass Crusader                                4.58   \n",
       "108     Extraction, Quickblade Of Trembling Hands           3.53   \n",
       "82      Nirvana                                             4.90   \n",
       "19      Pursuit, Cudgel of Necromancy                       1.02   \n",
       "\n",
       "                                                      Total Purchase Value  \n",
       "Item ID Item Name                                                           \n",
       "178     Oathbreaker, Last Hope of the Breaking Storm                 50.76  \n",
       "145     Fiery Glass Crusader                                         41.22  \n",
       "108     Extraction, Quickblade Of Trembling Hands                    31.77  \n",
       "82      Nirvana                                                      44.10  \n",
       "19      Pursuit, Cudgel of Necromancy                                 8.16  "
      ]
     },
     "execution_count": 24,
     "metadata": {},
     "output_type": "execute_result"
    }
   ],
   "source": [
    "items = purchase_data[{\"Item ID\", \"Item Name\", \"Price\"}]\n",
    "\n",
    "item_stats = items.groupby([\"Item ID\",\"Item Name\"])\n",
    "\n",
    "purchase_count_item = item_stats[\"Price\"].count()\n",
    "\n",
    "purchase_value = (item_stats[\"Price\"].sum()) \n",
    "\n",
    "item_price = purchase_value/purchase_count_item\n",
    "\n",
    "most_popular_items = pd.DataFrame({\"Purchase Count\": purchase_count_item, \n",
    "                                   \"Item Price\": item_price,\n",
    "                                   \"Total Purchase Value\":purchase_value})\n",
    "\n",
    "popular_new_format = most_popular_items.sort_values([\"Purchase Count\"], ascending=False)\n",
    "\n",
    "popular_new_format.style.format({\"Item Price\":\"${:,.2f}\",\n",
    "                                \"Total Purchase Value\":\"${:,.2f}\"})\n",
    "popular_new_format.head()"
   ]
  },
  {
   "cell_type": "markdown",
   "metadata": {},
   "source": [
    "## Most Profitable Items"
   ]
  },
  {
   "cell_type": "markdown",
   "metadata": {},
   "source": [
    "* Sort the above table by total purchase value in descending order\n",
    "\n",
    "\n",
    "* Optional: give the displayed data cleaner formatting\n",
    "\n",
    "\n",
    "* Display a preview of the data frame\n",
    "\n"
   ]
  },
  {
   "cell_type": "code",
   "execution_count": 10,
   "metadata": {
    "scrolled": true
   },
   "outputs": [
    {
     "data": {
      "text/html": [
       "<div>\n",
       "<style scoped>\n",
       "    .dataframe tbody tr th:only-of-type {\n",
       "        vertical-align: middle;\n",
       "    }\n",
       "\n",
       "    .dataframe tbody tr th {\n",
       "        vertical-align: top;\n",
       "    }\n",
       "\n",
       "    .dataframe thead th {\n",
       "        text-align: right;\n",
       "    }\n",
       "</style>\n",
       "<table border=\"1\" class=\"dataframe\">\n",
       "  <thead>\n",
       "    <tr style=\"text-align: right;\">\n",
       "      <th></th>\n",
       "      <th></th>\n",
       "      <th>Purchase Count</th>\n",
       "      <th>Item Price</th>\n",
       "      <th>Total Purchase Value</th>\n",
       "    </tr>\n",
       "    <tr>\n",
       "      <th>Item ID</th>\n",
       "      <th>Item Name</th>\n",
       "      <th></th>\n",
       "      <th></th>\n",
       "      <th></th>\n",
       "    </tr>\n",
       "  </thead>\n",
       "  <tbody>\n",
       "    <tr>\n",
       "      <td>178</td>\n",
       "      <td>Oathbreaker, Last Hope of the Breaking Storm</td>\n",
       "      <td>12</td>\n",
       "      <td>4.23</td>\n",
       "      <td>50.76</td>\n",
       "    </tr>\n",
       "    <tr>\n",
       "      <td>82</td>\n",
       "      <td>Nirvana</td>\n",
       "      <td>9</td>\n",
       "      <td>4.90</td>\n",
       "      <td>44.10</td>\n",
       "    </tr>\n",
       "    <tr>\n",
       "      <td>145</td>\n",
       "      <td>Fiery Glass Crusader</td>\n",
       "      <td>9</td>\n",
       "      <td>4.58</td>\n",
       "      <td>41.22</td>\n",
       "    </tr>\n",
       "    <tr>\n",
       "      <td>92</td>\n",
       "      <td>Final Critic</td>\n",
       "      <td>8</td>\n",
       "      <td>4.88</td>\n",
       "      <td>39.04</td>\n",
       "    </tr>\n",
       "    <tr>\n",
       "      <td>103</td>\n",
       "      <td>Singed Scalpel</td>\n",
       "      <td>8</td>\n",
       "      <td>4.35</td>\n",
       "      <td>34.80</td>\n",
       "    </tr>\n",
       "  </tbody>\n",
       "</table>\n",
       "</div>"
      ],
      "text/plain": [
       "                                                      Purchase Count  \\\n",
       "Item ID Item Name                                                      \n",
       "178     Oathbreaker, Last Hope of the Breaking Storm              12   \n",
       "82      Nirvana                                                    9   \n",
       "145     Fiery Glass Crusader                                       9   \n",
       "92      Final Critic                                               8   \n",
       "103     Singed Scalpel                                             8   \n",
       "\n",
       "                                                      Item Price  \\\n",
       "Item ID Item Name                                                  \n",
       "178     Oathbreaker, Last Hope of the Breaking Storm        4.23   \n",
       "82      Nirvana                                             4.90   \n",
       "145     Fiery Glass Crusader                                4.58   \n",
       "92      Final Critic                                        4.88   \n",
       "103     Singed Scalpel                                      4.35   \n",
       "\n",
       "                                                      Total Purchase Value  \n",
       "Item ID Item Name                                                           \n",
       "178     Oathbreaker, Last Hope of the Breaking Storm                 50.76  \n",
       "82      Nirvana                                                      44.10  \n",
       "145     Fiery Glass Crusader                                         41.22  \n",
       "92      Final Critic                                                 39.04  \n",
       "103     Singed Scalpel                                               34.80  "
      ]
     },
     "execution_count": 10,
     "metadata": {},
     "output_type": "execute_result"
    }
   ],
   "source": [
    "popular_top = most_popular_items.sort_values([\"Total Purchase Value\"],ascending=False)\n",
    "popular_top.style.format({\"Item Price\":\"${:,.2f}\",\n",
    "                                \"Total Purchase Value\":\"${:,.2f}\"})\n",
    "popular_top.head()"
   ]
  }
 ],
 "metadata": {
  "anaconda-cloud": {},
  "kernel_info": {
   "name": "python3"
  },
  "kernelspec": {
   "display_name": "Python 3",
   "language": "python",
   "name": "python3"
  },
  "language_info": {
   "codemirror_mode": {
    "name": "ipython",
    "version": 3
   },
   "file_extension": ".py",
   "mimetype": "text/x-python",
   "name": "python",
   "nbconvert_exporter": "python",
   "pygments_lexer": "ipython3",
   "version": "3.7.4"
  },
  "latex_envs": {
   "LaTeX_envs_menu_present": true,
   "autoclose": false,
   "autocomplete": true,
   "bibliofile": "biblio.bib",
   "cite_by": "apalike",
   "current_citInitial": 1,
   "eqLabelWithNumbers": true,
   "eqNumInitial": 1,
   "hotkeys": {
    "equation": "Ctrl-E",
    "itemize": "Ctrl-I"
   },
   "labels_anchors": false,
   "latex_user_defs": false,
   "report_style_numbering": false,
   "user_envs_cfg": false
  },
  "nteract": {
   "version": "0.2.0"
  }
 },
 "nbformat": 4,
 "nbformat_minor": 2
}
